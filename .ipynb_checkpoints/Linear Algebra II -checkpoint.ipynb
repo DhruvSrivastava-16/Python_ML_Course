{
 "cells": [
  {
   "cell_type": "markdown",
   "metadata": {},
   "source": [
    "## NORMS \n",
    "    "
   ]
  },
  {
   "cell_type": "code",
   "execution_count": 4,
   "metadata": {},
   "outputs": [],
   "source": [
    "import numpy as np"
   ]
  },
  {
   "cell_type": "code",
   "execution_count": 12,
   "metadata": {},
   "outputs": [
    {
     "name": "stdout",
     "output_type": "stream",
     "text": [
      "Norm base_2 i.e. L1 Norm:  19.0\n",
      "Norm base_2 i.e. L2 Norm:  12.206555615733702\n"
     ]
    }
   ],
   "source": [
    "x_arr = np.array([9,8,2])\n",
    "l1_norm = np.linalg.norm(x_arr,ord=1)\n",
    "l2_norm = np.linalg.norm(x_arr)\n",
    "print (\"Norm base_2 i.e. L1 Norm: \",l1_norm)\n",
    "print (\"Norm base_2 i.e. L2 Norm: \",l2_norm)"
   ]
  },
  {
   "cell_type": "markdown",
   "metadata": {},
   "source": [
    "*Similaly for __Infinity Norm__: $L^\\infty$*"
   ]
  },
  {
   "cell_type": "code",
   "execution_count": 14,
   "metadata": {},
   "outputs": [
    {
     "name": "stdout",
     "output_type": "stream",
     "text": [
      "Norm base_infinity i.e. Infinity Norm:  9.0\n"
     ]
    }
   ],
   "source": [
    "linf_norm = np.linalg.norm(x_arr,ord=np.inf)\n",
    "print (\"Norm base_infinity i.e. Infinity Norm: \",linf_norm)"
   ]
  },
  {
   "cell_type": "markdown",
   "metadata": {},
   "source": [
    "## DETERMINANT"
   ]
  },
  {
   "cell_type": "code",
   "execution_count": 21,
   "metadata": {},
   "outputs": [
    {
     "name": "stdout",
     "output_type": "stream",
     "text": [
      "Random Matrix X: [[0.65601477 0.72909085 0.00909448]\n",
      " [0.29428604 0.44313655 0.8437229 ]\n",
      " [0.68652789 0.11747068 0.93804914]]\n"
     ]
    }
   ],
   "source": [
    "X = np.random.rand(3,3) \n",
    "print ('Random Matrix X:',X)"
   ]
  },
  {
   "cell_type": "code",
   "execution_count": 25,
   "metadata": {},
   "outputs": [
    {
     "name": "stdout",
     "output_type": "stream",
     "text": [
      "Determinant of X: 0.4262720518698225\n"
     ]
    }
   ],
   "source": [
    "X_det = np.linalg.det(X)\n",
    "print ('Determinant of X:',X_det)"
   ]
  },
  {
   "cell_type": "markdown",
   "metadata": {},
   "source": [
    "## INVERSE \n",
    "We will use __np.linalg.pinv()__ function to find the inverse of a matrix because this function uses  *Moore-Penrose pseudo inverse* which is a generalization of the matrix inverse. When the matrix is not  invertible i.e. det(A) = 0, then it helps in finding a pseudo inverse. If A is invertible, then the Moore-Penrose pseudo inverse is equal to the matrix inverse. "
   ]
  },
  {
   "cell_type": "code",
   "execution_count": 27,
   "metadata": {},
   "outputs": [
    {
     "name": "stdout",
     "output_type": "stream",
     "text": [
      "Inverse of X: [[ 0.7426505  -1.60192233  1.43363974]\n",
      " [ 0.71124659  1.42897119 -1.29217552]\n",
      " [-0.63259043  0.99344703  0.17862504]]\n"
     ]
    }
   ],
   "source": [
    "X_inv=np.linalg.pinv(X)\n",
    "print ('Inverse of X:',X_inv)"
   ]
  },
  {
   "cell_type": "markdown",
   "metadata": {},
   "source": [
    "The matrix multiplication of X and X_inv should be an identity matrix. So, lets check that: "
   ]
  },
  {
   "cell_type": "code",
   "execution_count": 28,
   "metadata": {},
   "outputs": [
    {
     "name": "stdout",
     "output_type": "stream",
     "text": [
      "Product is:  [[ 1.00000000e+00 -7.90195624e-16  7.73265712e-16]\n",
      " [-8.77935378e-17  1.00000000e+00  5.52162951e-16]\n",
      " [ 2.77921914e-16 -4.41449038e-17  1.00000000e+00]]\n"
     ]
    }
   ],
   "source": [
    "print(\"Product is: \",np.dot(X,X_inv))"
   ]
  },
  {
   "cell_type": "markdown",
   "metadata": {},
   "source": [
    "You'll see that in the above output matrix, the diagonal elements are close to 1 and rest of the elements are extremely small and __$\\to0$__"
   ]
  },
  {
   "cell_type": "markdown",
   "metadata": {},
   "source": [
    "## SOLVING EQUATIONS\n",
    "\n",
    "$aX_1 + bX_2 = c$\n",
    "\n",
    "$eX_1 + fX_2 = g$\n",
    "\n",
    "Such equation system can be very easily solved. For instance, \n",
    "\n",
    "$1X_1 + 2X_2 = 8$\n",
    "\n",
    "$3X_1 + 4X_2 = 10$\n",
    "\n",
    "\n",
    "\n"
   ]
  },
  {
   "cell_type": "code",
   "execution_count": 33,
   "metadata": {},
   "outputs": [
    {
     "name": "stdout",
     "output_type": "stream",
     "text": [
      "[-6.  7.]\n"
     ]
    }
   ],
   "source": [
    "A = np.array([[1,2],[3,4]])\n",
    "B = np.array([8,10])\n",
    "print (\"Value of X1 and Y1 is: \",np.linalg.solve(A,B))"
   ]
  },
  {
   "cell_type": "code",
   "execution_count": null,
   "metadata": {},
   "outputs": [],
   "source": []
  }
 ],
 "metadata": {
  "kernelspec": {
   "display_name": "Python 3",
   "language": "python",
   "name": "python3"
  },
  "language_info": {
   "codemirror_mode": {
    "name": "ipython",
    "version": 3
   },
   "file_extension": ".py",
   "mimetype": "text/x-python",
   "name": "python",
   "nbconvert_exporter": "python",
   "pygments_lexer": "ipython3",
   "version": "3.8.2"
  }
 },
 "nbformat": 4,
 "nbformat_minor": 4
}
