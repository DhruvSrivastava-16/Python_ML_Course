{
 "cells": [
  {
   "cell_type": "markdown",
   "metadata": {},
   "source": [
    "## Probability and Normal Distribution "
   ]
  },
  {
   "cell_type": "code",
   "execution_count": 4,
   "metadata": {},
   "outputs": [],
   "source": [
    "import matplotlib.pyplot as plt\n",
    "import numpy as np"
   ]
  },
  {
   "cell_type": "code",
   "execution_count": 6,
   "metadata": {},
   "outputs": [
    {
     "data": {
      "image/png": "[encoded data removed]",
      "text/plain": [
       "<Figure size 432x288 with 1 Axes>"
      ]
     },
     "metadata": {
      "needs_background": "light"
     },
     "output_type": "display_data"
    }
   ],
   "source": [
    "# 1D normal distribution\n",
    "u = 0\n",
    "sigma = 2\n",
    "\n",
    "data = np.random.randn(1000)\n",
    "\n",
    "plt.hist(data,50)\n",
    "plt.show()"
   ]
  },
  {
   "cell_type": "code",
   "execution_count": 8,
   "metadata": {},
   "outputs": [
    {
     "data": {
      "image/png": "[encoded data removed]",
      "text/plain": [
       "<Figure size 432x288 with 1 Axes>"
      ]
     },
     "metadata": {
      "needs_background": "light"
     },
     "output_type": "display_data"
    }
   ],
   "source": [
    "# Now let's tranform the data and play around the mean location and sigma\n",
    "\n",
    "u = 5\n",
    "sigma = 10\n",
    "data2 = u + sigma*np.random.randn(1000)\n",
    "plt.hist(data2,50)\n",
    "plt.show()\n",
    "#you will notice the width increased and mean shifted!"
   ]
  },
  {
   "cell_type": "code",
   "execution_count": 11,
   "metadata": {},
   "outputs": [
    {
     "data": {
      "image/png": "[encoded data removed]",
      "text/plain": [
       "<Figure size 432x288 with 1 Axes>"
      ]
     },
     "metadata": {
      "needs_background": "light"
     },
     "output_type": "display_data"
    }
   ],
   "source": [
    "plt.hist(data2,10)\n",
    "plt.show()\n"
   ]
  },
  {
   "cell_type": "code",
   "execution_count": 13,
   "metadata": {},
   "outputs": [
    {
     "name": "stdout",
     "output_type": "stream",
     "text": [
      "[  4.  18.   5.  10.   6.   5.  -3.  19.   8.   7. -15.  15.   9. -12.\n",
      "   4.   1.  12.  17. -11.  12.   0.   9.  10.  17.  11.   5.   1.  -2.\n",
      "  12.  25.   7.  -4.  -1.   8.  17.  16.  -5.  16.  -4.  10.  11.   1.\n",
      "   5.  26.   3.  -4.   8. -11.   5.   9.  14.  15.  10.  13.   7.  18.\n",
      "  -1.  13. -12.   3.  -2.   5.  18.  -4.  19.   4.  19.   4.  11.  -3.\n",
      " -12.  -7.  -2. -10.   4.  16.   5. -10.  -4.  -1.   7.   2.  14.  -7.\n",
      "   5.  -1.  24.   4.  21.   8.  15.   9.   2.  -8. -17.  11. -10.  12.\n",
      "  14.   2.   2.  -8.  23.  -9.   2.  -0.  -5.  -4.  -0.  -3.   9.  -3.\n",
      "   1.  10.   8.   4.  14.  21. -11.  -8.  10. -18.   4. -14.  -2.  12.\n",
      "   3.  -5.  -9.  13.  -4.  10.  -5.  14. -12.  20.  15.  18.  13.  13.\n",
      "   3.  -7.   1.  -8.  28.  -5.   6. -11.   4.  15.  13.  -0.  14.  -6.\n",
      " -13.  -1.  -0.  -8.   8.  12.  27.  -4.  -8.   2.  12.   8. -17. -21.\n",
      "   4.   0.   2.  26.  -4.   5.  18.  -7.  10.   8.  -1.  -3.   3.   5.\n",
      "  12.  10.  31.   3.  -3.  11.  14.  10.  13.   2.   1.   2.  21.   3.\n",
      "   6.   9.   2. -10.   0.  13.   6.   7. -16.   3.  -8.  19. -20.  -1.\n",
      "   5.   9.   3.  -7.  -6. -11.  33.  -2. -12. -14.   3. -10. -12.   8.\n",
      "  24.  -5.  22.   6.  -7.   3.   8.  -0.   8.   8.   8.   4.  -4.   9.\n",
      "  13.  -2.   6.  13.   0. -19.  21.  10. -12.   4. -10. -11.  18.   8.\n",
      "  11.   7.   6. -14.   4.  -8.   9.  39.   8.  11.  13.  -6.  -7.   8.\n",
      "  15.   3.  10.   9.  20.   4.   7.   4.  10.  -8.  -9.  14. -10.   8.\n",
      "  -8.  11.  -2.   9.  -7.  11.  15.  23. -10.  20.  -7.   4. -20.  -6.\n",
      "  15.  10.  17.  22. -10.  -1.  -1.   4.   6.   9.  -9.   7.  35.   3.\n",
      "   9.  20.   3.  12. -13.  26. -11.  11.  10.  -7.  -5.  14.  19.  -3.\n",
      "   2.  -4. -12.  -7.  16.  13.  10.  -9.   1.  11.   0.   0.  -3. -21.\n",
      "   4.   9.   1.  -1.   2.  18.   2.   0.   5.   8.   1.  10.  -2.   9.\n",
      "   1. -10.  -5.  19.   4.  14.  -1.  -1.   6.  14.  -5.  11.  13. -15.\n",
      "   0.  13.  -4.  10.   3.  -3.   9.  19.  14.   1.   4.   8.  -7. -13.\n",
      "  14.  -9.  15.   5.  -9.  29.  12.  -3.  21.   8. -14.  30.  25.   8.\n",
      "   7.  -1.  -3.  25.   5.  25.  13.   3.  -3.  12.  12.   3.  28. -12.\n",
      "  14.   9.  -3.  -1.   4.   2.  -3.   9.  -2.  15.  34.  11.  10.   4.\n",
      "  15.   4.   9. -13.   4.  17.  12.   5.  -0.  10.  25.  22.   0.  -1.\n",
      "  24.  -8.  10.  17.  -2.   9.  11.  -7. -20.  25.   3.   6.   1.  -3.\n",
      "   6.   1.  17.  18.   4.   7.   6.  -4.   8.  13.  14.  15.  -9.  10.\n",
      "  10.  -2.   9.   3.  13.  -9.  -4.  -1.   4.  12.  16.  12.  -2.   2.\n",
      "   3.  10.  12.  20.  -7.   8.  17.  -8.   8.  11.   2. -10.   7.  15.\n",
      " -25.   5. -12.  -6.  24.   1.  -1.  17.  16.  18.  19.   9.  13. -12.\n",
      "  -3.   5.   3.  -4. -13.   9.   9.  10. -12.   0. -11.  11.  -3. -11.\n",
      "  -3.  -9.  13.   8.  12.  -1.   4.   4.   9.  17.  -3.   6.   1.  -0.\n",
      "   3. -13.   6.  -1.   8.  -3.  14.  -9.  15.   2. -10.  10.  13.   4.\n",
      "  23.   7.  -8.  30.  14.  33.  23.  -2.   5.  28. -10.  15.  -0.  14.\n",
      "  -7.   9.  14. -18.  -1.   1.   5. -11.   2.  -4. -12.  10.   3.   5.\n",
      "   2.  28.  -8.   6.  11.  -1.   6.  -4.   4.  -6.  18.   6.   4. -11.\n",
      "  -7.   9.  -1.  14.   3.   7.   5.   2.  -5.  15.  -7.  19.  28.   8.\n",
      "  12.  -7.  13.  -3.   3.  15.  -3.   8.   9.  24.  14.  11.  10.  10.\n",
      "  23.  13.   7.   8.   5.  10.  19.  -4.  -4.  -5. -10.  -3.  10.  -3.\n",
      "  17.   9.   5.  25.   8.  17. -12.  19.  -4.   7.   7.  25.  -6.   8.\n",
      "   4.   8.  -7.  11.  12.   8.   7.   7. -13.   1.   8.  10.  -4.  12.\n",
      "   8.  11.  -5.   2.  21.   4.  -7.   1.  12.  10.  19.  -6.  -3. -14.\n",
      "  35.  -3.   8.  10.   3.  -4.   7.  13.   5.  11.   8.   2.  -3.   1.\n",
      "   7.  -8.  14.  15.  17.  -0.   2.  13.  -3.   8.   8.  13.  24.  12.\n",
      "  -0.  15.  17.  18.   3.  -5.   7.  -4.  -3.  -2.  -9.  25.   4.  12.\n",
      "   7.   5.  -6.  15.   7. -12.  10.  -3.  27.  -0.   5. -10.  17. -10.\n",
      "   1.  10.  17.   1.   6.   6.   8.  11.   4.   5.   2.   3.  12.  24.\n",
      "   5. -14.  27.   4.  -3.   6.   6.   4.   4.  14.   7. -15.  19.   7.\n",
      "  12.   7.   6.   5. -11.   4.  19.  18. -10.   1.  11. -20.   2.  10.\n",
      "   6.  11.  -0.  12.   9.   6.   9.   8.   7.  11.  -1.   1.  -1.   5.\n",
      "  14.  -9.  17.   1.  20. -10.   1.  26.  -0.  -2.  -2.   3.   7.  -2.\n",
      "   7.  12.  11.  12.  -0.   4. -10.   9.  -1.  15. -18.   3.  14.  11.\n",
      "  -1.   0.   5.  16.  -3.   6.   7.  11.  -6.  11.   9.  17.   3.  12.\n",
      "   1.  19.  19.  20.  27.  -7.  14.  -0.  -8.  15.  10.  -2.   2.   8.\n",
      "   5.  12.  23. -15. -12.  11.  -6.  -5.  -8.   0.   5.  -0.  20.  10.\n",
      "  -7.   3.   6.  -4.   2.  -3.  -6.  10.  18.   9. -18.   1.  11.   7.\n",
      "   7.  15.  10.  12.   5.   9.  11.   4.  11.   4.  -4.  16.  23. -11.\n",
      "  34.  -8.  18.  -4.   8.  13.  12.  -2. -11.  -2.  -5.  11.  19.   4.\n",
      "  17.  -3.   4.  18.  -3. -16.   2.   0. -18.   5.  14. -16.  14.   7.\n",
      "   4.  20.  -7.   3.   4.   2.   1.   7.  13.  11.  14.   7.  24.   0.\n",
      "  14.  10.   2.  20.  27.  16.   1.   3.  16.  10.   3.   1. -10.   6.\n",
      "   6.   5.   4. -10.  10.   9.  -1.  -6.  17. -10.  12.   4.   4.  16.\n",
      "  -2.  -7.  -1.  -6.   8.  13.   4.   3.  19.  15.   7.  17.  -5.   1.\n",
      "   3.  16.  16.  13.  16.  -8.  16.  13. -14.   3.  11.   2.   2.  -4.\n",
      "  -1.  12.  17.  -6.  10.   9.  20.  -2.   9.  -1.  -3.  19. -20.  25.\n",
      "   2. -12.   5.  23.  17.   4.]\n",
      "(array([-25., -21., -20., -19., -18., -17., -16., -15., -14., -13., -12.,\n",
      "       -11., -10.,  -9.,  -8.,  -7.,  -6.,  -5.,  -4.,  -3.,  -2.,  -1.,\n",
      "        -0.,   1.,   2.,   3.,   4.,   5.,   6.,   7.,   8.,   9.,  10.,\n",
      "        11.,  12.,  13.,  14.,  15.,  16.,  17.,  18.,  19.,  20.,  21.,\n",
      "        22.,  23.,  24.,  25.,  26.,  27.,  28.,  29.,  30.,  31.,  33.,\n",
      "        34.,  35.,  39.]), array([ 1,  2,  5,  1,  5,  2,  3,  4,  7,  7, 17, 14, 22, 13, 19, 24, 15,\n",
      "       16, 27, 36, 22, 30, 30, 31, 33, 38, 51, 37, 28, 36, 44, 38, 45, 36,\n",
      "       34, 30, 30, 24, 15, 23, 15, 19, 11,  6,  3,  8,  8, 10,  4,  5,  5,\n",
      "        1,  2,  1,  2,  2,  2,  1], dtype=int64))\n"
     ]
    }
   ],
   "source": [
    "#now let's check the values and their frequency in each\n",
    "\n",
    "x = np.round(data2)\n",
    "print(x)\n",
    "x_unique_freq = np.unique(x,return_counts = True) #this will tell the frequency of each value in the intervals and returns a ND kinda Vector\n",
    "print(x_unique_freq)"
   ]
  },
  {
   "cell_type": "code",
   "execution_count": null,
   "metadata": {},
   "outputs": [],
   "source": []
  }
 ],
 "metadata": {
  "kernelspec": {
   "display_name": "Python 3",
   "language": "python",
   "name": "python3"
  },
  "language_info": {
   "codemirror_mode": {
    "name": "ipython",
    "version": 3
   },
   "file_extension": ".py",
   "mimetype": "text/x-python",
   "name": "python",
   "nbconvert_exporter": "python",
   "pygments_lexer": "ipython3",
   "version": "3.8.2"
  }
 },
 "nbformat": 4,
 "nbformat_minor": 4
}
